{
 "cells": [
  {
   "cell_type": "markdown",
   "id": "39d0fdcc",
   "metadata": {},
   "source": [
    "# Variational Autoencoder Demonstration\n",
    "The purpose of this notebook is to demonstrate a simple Variational Autoencoder (VAE) model, trained on SELF-referencIng Embedded Strings (SELFIES)."
   ]
  },
  {
   "cell_type": "markdown",
   "id": "02b2efcd",
   "metadata": {},
   "source": [
    "## Load and prepare the data\n",
    "\n",
    "Call `bddata.setup` to:\n",
    " - Download the QM9 dataset to a location outside of source code control. \n",
    " - Compute the SELFIES from SMILES, discarding records with unusable SMILES strings\n",
    " - Calculate QM9 dataset summary statistics\n",
    " - Create the vocabulary\n",
    " - Pad SELFIES out to the length of the record with the maximal SELFIES tokens\n",
    " - Add a start token to facilitate transition probability profile generation"
   ]
  },
  {
   "cell_type": "code",
   "execution_count": 2,
   "id": "327682d3",
   "metadata": {},
   "outputs": [
    {
     "name": "stdout",
     "output_type": "stream",
     "text": [
      "+ Add SELFIES to the dataset entries...\n",
      "outputting 'x' for each record skipped due to unusable SMILES string.\n",
      "xxxxxxxxxxxxxxxxxxxxxxxxxxxxxxxxxxxxxxxxxxxxxxxxxxxxxxxxxxxxxxxxxxxxxxxxxxxxxxxxxxxxxxxxxxxxxxxxxxxxxxxxxxxxxxxxxxxxxxxxxxxxxxxxxxxxxxxxxxxxxxxxxxxxxxxxxxxxxxxxxxxxxxxxxxxxxxxxxxxxxxxxxxxxxxxxxxxxxxxxxxxxxxxxxxxxxxxxxxxxxxxxxxxxxxxxxxxxxxxxxxxxxxxxxxxxxxxxxxxxxxxxxxxxxxxxxxxxxxxxxxxxxxxxxxxxxxxxxxxxxxxxxxxxxxxxxxxxxxxxxxxxxxxxxxxxxxxxxxxxxxxxxxxxxxxxxxxxxxxxxxxxxxxxxxxxxxxxxxxxxxxxxxxxxxxxxxxxxxxxxxxxxxxxxxxxxxxxxxxxxxxxxxxxxxxxxxxxxxxxxxxxxxxxxxxxxxxxxxxxxxxxxxxxxxxxxxxxxxxxxxxxxxxxxxxxxxxxxxxxxxxxxxxxxxxxxxxxxxxxxxxxxxxxxxxxxxxxxxxxxxxxxxxxxxxxxxxxxxxxxxxxxxxxxxxxxxxxxxxxxxxxxxxxxxxxxxxxxxxxxxxxxxxxxxxxxxxxxxxxxxxxxxxxxxxxxxxxxxxxxxxxxxxxxxxxxxxxxxxxxxxxxxxxxxxxxxxxxxxxxxxxxxxxxxxxxxxxxxxxxxxxxxxxxxxxxxxxxxxxxxxxxxxxxxxxxxxxxxxxxxxxxxxxxxxxxxxxxxxxxxxxxxxxxxxxxxxxxxxxxxxxxxxxxxxxxxxxxxxxxxxxxxxxxxxxxxxxxxxxxxxxxxxxxxxxxxxxxxxxxxxxxxxxxxxxxxxxxxxxxxxxxxxxxxxxxxxxxxxxxxxxxxxxxxxxxxxxxxxxxxxxxxxxxxxxxxxxxxxxxxxxxxxxxxxxxxxxxxxxxxxxxxxxxxxxxxxxxxxxxxxxxxxxxxxxxxxxxxxxxxxxxxxxxxxxxxxxxxxxxxxxxxxxxxxxxxxxxxxxxxxxxxxxxxxxxxxxxxxxxxxxxxxxxxxxxxxxxxxxxxxxxxxxxxxxxxxxxxxxxxxxxxxxxxxxxxxxxxxxxxxxxxxxxxxxxxxxxxxxxxxxxxxxxxxxxxxxxxxxxxxxxxxxxxxxxxxxxxxxxxxxxxxxxxxxxxxxxxxxxxxxxxxxxxxxxxxxxxxxxxxxxxxxxxxxxxxxxxxxxxxxxxxxxxxxxxxxxxxxxxxxxxxxxxxxxxxxxxxxxxxxxxxxxxxxxxxxxxxxxxxxxxxxxxxxxxxxxxxxxxxxxxxxxxxxxxxxxxxxxxxxxxxxxxxxxxxxxxxxxxxxxxxxxxxxxxxxxxxxxxxxxxxxxxxxxxxxxxxxxxxxxxxxxxxxxxxxxxxxxxx+ Creating vocabulary...\n",
      "+ Finding stats for number of tokens in the selfies:...\n",
      "+ Adding SELFIES to the dataset entries...\n",
      "+ Done.\n",
      "CPU times: user 49.5 s, sys: 521 ms, total: 50 s\n",
      "Wall time: 52.3 s\n"
     ]
    }
   ],
   "source": [
    "%%time\n",
    "from importlib import reload\n",
    "\n",
    "import bd\n",
    "reload(bd)\n",
    "from bd import data as bddata\n",
    "from bd import log as bdl\n",
    "\n",
    "PAD_TOKEN=\"<pad>\"\n",
    "START_TOKEN=\"<start>\"\n",
    "\n",
    "\n",
    "bdl.set_verbosity(bdl.INFO)\n",
    "dataset_selfies, max_tokens, token_stats, vocab, start_token, pad_token = bddata.setup(data_path='../../data/QM9',\n",
    "                                                                           start_token=START_TOKEN,\n",
    "                                                                           pad_token=PAD_TOKEN)\n"
   ]
  },
  {
   "cell_type": "code",
   "execution_count": 3,
   "id": "78a992fc",
   "metadata": {},
   "outputs": [
    {
     "data": {
      "text/plain": [
       "(129428,\n",
       " 21,\n",
       " {'median': 13.0,\n",
       "  'average': 13.759194301078592,\n",
       "  'std': 2.0650592942840698,\n",
       "  'max': 21,\n",
       "  'min': 1},\n",
       " 56,\n",
       " '<start>',\n",
       " '<pad>')"
      ]
     },
     "execution_count": 3,
     "metadata": {},
     "output_type": "execute_result"
    }
   ],
   "source": [
    "len(dataset_selfies), max_tokens, token_stats, len(vocab),  start_token, pad_token "
   ]
  },
  {
   "cell_type": "markdown",
   "id": "a33bad9a",
   "metadata": {},
   "source": [
    "## Fit the model\n",
    "\n",
    "Load the data batches, build the model, fit, and plot the train/validation losses.\n"
   ]
  },
  {
   "cell_type": "code",
   "execution_count": 8,
   "id": "4eefac32",
   "metadata": {},
   "outputs": [
    {
     "name": "stderr",
     "output_type": "stream",
     "text": [
      "GPU available: True (cuda), used: True\n",
      "TPU available: False, using: 0 TPU cores\n",
      "IPU available: False, using: 0 IPUs\n",
      "HPU available: False, using: 0 HPUs\n",
      "You are using a CUDA device ('NVIDIA GeForce RTX 3050 Ti Laptop GPU') that has Tensor Cores. To properly utilize them, you should set `torch.set_float32_matmul_precision('medium' | 'high')` which will trade-off precision for performance. For more details, read https://pytorch.org/docs/stable/generated/torch.set_float32_matmul_precision.html#torch.set_float32_matmul_precision\n",
      "2024-04-28 19:33:59.624913: I tensorflow/core/platform/cpu_feature_guard.cc:193] This TensorFlow binary is optimized with oneAPI Deep Neural Network Library (oneDNN) to use the following CPU instructions in performance-critical operations:  AVX2 AVX512F AVX512_VNNI FMA\n",
      "To enable them in other operations, rebuild TensorFlow with the appropriate compiler flags.\n",
      "2024-04-28 19:33:59.735844: I tensorflow/core/util/port.cc:104] oneDNN custom operations are on. You may see slightly different numerical results due to floating-point round-off errors from different computation orders. To turn them off, set the environment variable `TF_ENABLE_ONEDNN_OPTS=0`.\n",
      "2024-04-28 19:33:59.738802: W tensorflow/compiler/xla/stream_executor/platform/default/dso_loader.cc:64] Could not load dynamic library 'libcudart.so.11.0'; dlerror: libcudart.so.11.0: cannot open shared object file: No such file or directory\n",
      "2024-04-28 19:33:59.738812: I tensorflow/compiler/xla/stream_executor/cuda/cudart_stub.cc:29] Ignore above cudart dlerror if you do not have a GPU set up on your machine.\n",
      "2024-04-28 19:34:00.081280: W tensorflow/compiler/xla/stream_executor/platform/default/dso_loader.cc:64] Could not load dynamic library 'libnvinfer.so.7'; dlerror: libnvinfer.so.7: cannot open shared object file: No such file or directory\n",
      "2024-04-28 19:34:00.081348: W tensorflow/compiler/xla/stream_executor/platform/default/dso_loader.cc:64] Could not load dynamic library 'libnvinfer_plugin.so.7'; dlerror: libnvinfer_plugin.so.7: cannot open shared object file: No such file or directory\n",
      "2024-04-28 19:34:00.081353: W tensorflow/compiler/tf2tensorrt/utils/py_utils.cc:38] TF-TRT Warning: Cannot dlopen some TensorRT libraries. If you would like to use Nvidia GPU with TensorRT, please make sure the missing libraries mentioned above are installed properly.\n",
      "LOCAL_RANK: 0 - CUDA_VISIBLE_DEVICES: [0]\n",
      "\n",
      "  | Name    | Type       | Params\n",
      "---------------------------------------\n",
      "0 | encoder | Sequential | 23.7 K\n",
      "1 | decoder | Sequential | 15.5 K\n",
      "---------------------------------------\n",
      "39.2 K    Trainable params\n",
      "0         Non-trainable params\n",
      "39.2 K    Total params\n",
      "0.157     Total estimated model params size (MB)\n"
     ]
    },
    {
     "data": {
      "application/vnd.jupyter.widget-view+json": {
       "model_id": "",
       "version_major": 2,
       "version_minor": 0
      },
      "text/plain": [
       "Sanity Checking: |                                                                                            …"
      ]
     },
     "metadata": {},
     "output_type": "display_data"
    },
    {
     "name": "stderr",
     "output_type": "stream",
     "text": [
      "/home/krobasky/miniconda3/envs/jupyter/lib/python3.10/site-packages/pytorch_lightning/trainer/connectors/data_connector.py:441: The 'val_dataloader' does not have many workers which may be a bottleneck. Consider increasing the value of the `num_workers` argument` to `num_workers=15` in the `DataLoader` to improve performance.\n",
      "/home/krobasky/miniconda3/envs/jupyter/lib/python3.10/site-packages/pytorch_lightning/trainer/connectors/data_connector.py:441: The 'train_dataloader' does not have many workers which may be a bottleneck. Consider increasing the value of the `num_workers` argument` to `num_workers=15` in the `DataLoader` to improve performance.\n"
     ]
    },
    {
     "data": {
      "application/vnd.jupyter.widget-view+json": {
       "model_id": "be3533a43a45457682bcf1e512baba35",
       "version_major": 2,
       "version_minor": 0
      },
      "text/plain": [
       "Training: |                                                                                                   …"
      ]
     },
     "metadata": {},
     "output_type": "display_data"
    },
    {
     "data": {
      "application/vnd.jupyter.widget-view+json": {
       "model_id": "",
       "version_major": 2,
       "version_minor": 0
      },
      "text/plain": [
       "Validation: |                                                                                                 …"
      ]
     },
     "metadata": {},
     "output_type": "display_data"
    },
    {
     "data": {
      "application/vnd.jupyter.widget-view+json": {
       "model_id": "",
       "version_major": 2,
       "version_minor": 0
      },
      "text/plain": [
       "Validation: |                                                                                                 …"
      ]
     },
     "metadata": {},
     "output_type": "display_data"
    },
    {
     "data": {
      "application/vnd.jupyter.widget-view+json": {
       "model_id": "",
       "version_major": 2,
       "version_minor": 0
      },
      "text/plain": [
       "Validation: |                                                                                                 …"
      ]
     },
     "metadata": {},
     "output_type": "display_data"
    },
    {
     "data": {
      "application/vnd.jupyter.widget-view+json": {
       "model_id": "",
       "version_major": 2,
       "version_minor": 0
      },
      "text/plain": [
       "Validation: |                                                                                                 …"
      ]
     },
     "metadata": {},
     "output_type": "display_data"
    },
    {
     "data": {
      "application/vnd.jupyter.widget-view+json": {
       "model_id": "",
       "version_major": 2,
       "version_minor": 0
      },
      "text/plain": [
       "Validation: |                                                                                                 …"
      ]
     },
     "metadata": {},
     "output_type": "display_data"
    },
    {
     "data": {
      "application/vnd.jupyter.widget-view+json": {
       "model_id": "",
       "version_major": 2,
       "version_minor": 0
      },
      "text/plain": [
       "Validation: |                                                                                                 …"
      ]
     },
     "metadata": {},
     "output_type": "display_data"
    },
    {
     "name": "stderr",
     "output_type": "stream",
     "text": [
      "`Trainer.fit` stopped: `max_epochs=6` reached.\n"
     ]
    },
    {
     "name": "stdout",
     "output_type": "stream",
     "text": [
      "CPU times: user 23.9 s, sys: 3.19 s, total: 27.1 s\n",
      "Wall time: 27.3 s\n"
     ]
    }
   ],
   "source": [
    "%%time\n",
    "import pytorch_lightning as pl\n",
    "from pytorch_lightning import Trainer\n",
    "\n",
    "\n",
    "import bd\n",
    "reload(bd)\n",
    "from bd.models import VAE\n",
    "from bd.data import SELFIESDataModule, CustomRichProgressBar\n",
    "\n",
    "\n",
    "EPOCHS = 6\n",
    "# Model parameters\n",
    "vocab_size = len(vocab)  # Make sure vocab includes PAD_TOKEN\n",
    "BATCH_SIZE= 256 #8* vocab_size\n",
    "EMBEDDING_DIM = max_tokens#21#32\n",
    "HIDDEN_DIM = 128#64\n",
    "LATENT_DIM = 64#16\n",
    "BETA=1.0\n",
    "USE_MSE=False\n",
    "\n",
    "# get the data\n",
    "data_module = SELFIESDataModule(dataset_selfies, \n",
    "                                max_selfies_tokens= max_tokens, \n",
    "                                start_token_index=vocab[start_token],\n",
    "                                train_batch_size=BATCH_SIZE,\n",
    "                                val_batch_size = BATCH_SIZE,\n",
    "                                drop_last=True,\n",
    "                                train_val_split=0.8)\n",
    "data_module.setup()\n",
    "train_loader = data_module.train_dataloader()\n",
    "val_loader = data_module.val_dataloader()\n",
    "\n",
    "model = VAE(vocab_size)\n",
    "\n",
    "# Setup the trainer\n",
    "trainer = pl.Trainer(max_epochs=EPOCHS)#, callbacks=[CustomRichProgressBar()])  # Adjust according to your setup\n",
    "\n",
    "# Start training\n",
    "trainer.fit(model, train_loader, val_loader)\n",
    "\n"
   ]
  },
  {
   "cell_type": "code",
   "execution_count": 9,
   "id": "a14b2422",
   "metadata": {},
   "outputs": [
    {
     "data": {
      "image/png": "[encoded data removed]",
      "text/plain": [
       "<Figure size 432x288 with 1 Axes>"
      ]
     },
     "metadata": {
      "needs_background": "light"
     },
     "output_type": "display_data"
    }
   ],
   "source": [
    "import matplotlib.pyplot as plt\n",
    "\n",
    "# Plotting\n",
    "plt.plot(model.train_losses, label='Training Loss')\n",
    "plt.plot(model.val_losses, label='Validation Loss')\n",
    "plt.title('Training and Validation Losses')\n",
    "plt.xlabel('Epoch')\n",
    "plt.ylabel('Loss')\n",
    "plt.ylim(0,5)\n",
    "plt.legend()\n",
    "plt.show()\n"
   ]
  },
  {
   "cell_type": "markdown",
   "id": "d3ccdce0",
   "metadata": {},
   "source": [
    "## Generate a SELFIES\n",
    "\n",
    "Use the model to generate of a SELFIES string and view the molecular structure."
   ]
  },
  {
   "cell_type": "code",
   "execution_count": 11,
   "id": "a477d4ec",
   "metadata": {},
   "outputs": [
    {
     "data": {
      "image/png": "[encoded data removed]",
      "text/plain": [
       "<PIL.PngImagePlugin.PngImageFile image mode=RGB size=300x300>"
      ]
     },
     "metadata": {},
     "output_type": "display_data"
    }
   ],
   "source": [
    "bdl.set_verbosity(bdl.WARN)\n",
    "gen_max_tokens=35\n",
    "from bd.assess import generate_and_decode, selfies_to_image\n",
    "selfies_string, z, generated_indices1 = generate_and_decode(model=model, vocab=vocab, max_tokens=gen_max_tokens, \n",
    "                                                                start_token=start_token, \n",
    "                                                                pad_token=pad_token, \n",
    "                                                                z=None)\n",
    "display(selfies_to_image(selfies_string))"
   ]
  },
  {
   "cell_type": "code",
   "execution_count": null,
   "id": "7e310d5c",
   "metadata": {},
   "outputs": [],
   "source": []
  }
 ],
 "metadata": {
  "kernelspec": {
   "display_name": "Python (jupyter)",
   "language": "python",
   "name": "jupyter"
  },
  "language_info": {
   "codemirror_mode": {
    "name": "ipython",
    "version": 3
   },
   "file_extension": ".py",
   "mimetype": "text/x-python",
   "name": "python",
   "nbconvert_exporter": "python",
   "pygments_lexer": "ipython3",
   "version": "3.10.9"
  }
 },
 "nbformat": 4,
 "nbformat_minor": 5
}
