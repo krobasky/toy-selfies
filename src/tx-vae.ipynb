{
 "cells": [
  {
   "cell_type": "markdown",
   "id": "39d0fdcc",
   "metadata": {},
   "source": [
    "# Transformer Variational Autoencoder Demonstration\n",
    "The purpose of this notebook is to demonstrate a simple Variational Autoencoder (VAE) model, trained on SELF-referencIng Embedded Strings (SELFIES)."
   ]
  },
  {
   "cell_type": "markdown",
   "id": "02b2efcd",
   "metadata": {},
   "source": [
    "## Load and prepare the data\n",
    "\n",
    "Call `bddata.setup` to:\n",
    " - Download the QM9 dataset to a location outside of source code control. \n",
    " - Compute the SELFIES from SMILES, discarding records with unusable SMILES strings\n",
    " - Calculate QM9 dataset summary statistics\n",
    " - Create the vocabulary\n",
    " - Pad SELFIES out to the length of the record with the maximal SELFIES tokens\n",
    " - Add a start token to facilitate transition probability profile generation"
   ]
  },
  {
   "cell_type": "code",
   "execution_count": 1,
   "id": "327682d3",
   "metadata": {},
   "outputs": [
    {
     "name": "stdout",
     "output_type": "stream",
     "text": [
      "+ Add SELFIES to the dataset entries...\n",
      "outputting 'x' for each record skipped due to unusable SMILES string.\n",
      "xxxxxxxxxxxxxxxxxxxxxxxxxxxxxxxxxxxxxxxxxxxxxxxxxxxxxxxxxxxxxxxxxxxxxxxxxxxxxxxxxxxxxxxxxxxxxxxxxxxxxxxxxxxxxxxxxxxxxxxxxxxxxxxxxxxxxxxxxxxxxxxxxxxxxxxxxxxxxxxxxxxxxxxxxxxxxxxxxxxxxxxxxxxxxxxxxxxxxxxxxxxxxxxxxxxxxxxxxxxxxxxxxxxxxxxxxxxxxxxxxxxxxxxxxxxxxxxxxxxxxxxxxxxxxxxxxxxxxxxxxxxxxxxxxxxxxxxxxxxxxxxxxxxxxxxxxxxxxxxxxxxxxxxxxxxxxxxxxxxxxxxxxxxxxxxxxxxxxxxxxxxxxxxxxxxxxxxxxxxxxxxxxxxxxxxxxxxxxxxxxxxxxxxxxxxxxxxxxxxxxxxxxxxxxxxxxxxxxxxxxxxxxxxxxxxxxxxxxxxxxxxxxxxxxxxxxxxxxxxxxxxxxxxxxxxxxxxxxxxxxxxxxxxxxxxxxxxxxxxxxxxxxxxxxxxxxxxxxxxxxxxxxxxxxxxxxxxxxxxxxxxxxxxxxxxxxxxxxxxxxxxxxxxxxxxxxxxxxxxxxxxxxxxxxxxxxxxxxxxxxxxxxxxxxxxxxxxxxxxxxxxxxxxxxxxxxxxxxxxxxxxxxxxxxxxxxxxxxxxxxxxxxxxxxxxxxxxxxxxxxxxxxxxxxxxxxxxxxxxxxxxxxxxxxxxxxxxxxxxxxxxxxxxxxxxxxxxxxxxxxxxxxxxxxxxxxxxxxxxxxxxxxxxxxxxxxxxxxxxxxxxxxxxxxxxxxxxxxxxxxxxxxxxxxxxxxxxxxxxxxxxxxxxxxxxxxxxxxxxxxxxxxxxxxxxxxxxxxxxxxxxxxxxxxxxxxxxxxxxxxxxxxxxxxxxxxxxxxxxxxxxxxxxxxxxxxxxxxxxxxxxxxxxxxxxxxxxxxxxxxxxxxxxxxxxxxxxxxxxxxxxxxxxxxxxxxxxxxxxxxxxxxxxxxxxxxxxxxxxxxxxxxxxxxxxxxxxxxxxxxxxxxxxxxxxxxxxxxxxxxxxxxxxxxxxxxxxxxxxxxxxxxxxxxxxxxxxxxxxxxxxxxxxxxxxxxxxxxxxxxxxxxxxxxxxxxxxxxxxxxxxxxxxxxxxxxxxxxxxxxxxxxxxxxxxxxxxxxxxxxxxxxxxxxxxxxxxxxxxxxxxxxxxxxxxxxxxxxxxxxxxxxxxxxxxxxxxxxxxxxxxxxxxxxxxxxxxxxxxxxxxxxxxxxxxxxxxxxxxxxxxxxxxxxxxxxxxxxxxxxxxxxxxxxxxxxxxxxxxxxxxxxxxxxxxxxxxxxxxxxxxxxxxxxxxxxxxxxxxxxxxxxxxxxxxxxxxxxxxxxxxxxxxxxxxxxxxxxxxxxxx+ Creating vocabulary...\n",
      "+ Finding stats for number of tokens in the selfies:...\n",
      "+ Adding SELFIES to the dataset entries...\n",
      "+ Done.\n",
      "CPU times: user 47 s, sys: 649 ms, total: 47.7 s\n",
      "Wall time: 49.9 s\n"
     ]
    }
   ],
   "source": [
    "%%time\n",
    "from importlib import reload\n",
    "\n",
    "import bd\n",
    "reload(bd)\n",
    "from bd import data as bddata\n",
    "from bd import log as bdl\n",
    "\n",
    "PAD_TOKEN=\"<pad>\"\n",
    "START_TOKEN=\"<start>\"\n",
    "\n",
    "\n",
    "bdl.set_verbosity(bdl.INFO)\n",
    "dataset_selfies, max_tokens, token_stats, vocab, start_token, pad_token = bddata.setup(data_path='../../data/QM9',\n",
    "                                                                           start_token=START_TOKEN,\n",
    "                                                                           pad_token=PAD_TOKEN)\n"
   ]
  },
  {
   "cell_type": "code",
   "execution_count": 2,
   "id": "78a992fc",
   "metadata": {},
   "outputs": [
    {
     "data": {
      "text/plain": [
       "(129428,\n",
       " 21,\n",
       " {'median': 13.0,\n",
       "  'average': 13.759194301078592,\n",
       "  'std': 2.0650592942840698,\n",
       "  'max': 21,\n",
       "  'min': 1},\n",
       " 56,\n",
       " '<start>',\n",
       " '<pad>',\n",
       " Data(x=[5, 11], edge_index=[2, 8], edge_attr=[8, 4], y=[1, 19], pos=[5, 3], z=[5], smiles='[H]C([H])([H])[H]', name='gdb_1', idx=[1], selfies='[C]', encoded_selfies_list=[1]))"
      ]
     },
     "execution_count": 2,
     "metadata": {},
     "output_type": "execute_result"
    }
   ],
   "source": [
    "len(dataset_selfies), max_tokens, token_stats, len(vocab),  start_token, pad_token, dataset_selfies[0]"
   ]
  },
  {
   "cell_type": "markdown",
   "id": "a33bad9a",
   "metadata": {},
   "source": [
    "## Fit the model\n",
    "\n",
    "Load the data batches, build the model, fit, and plot the train/validation losses.\n"
   ]
  },
  {
   "cell_type": "code",
   "execution_count": 48,
   "id": "4eefac32",
   "metadata": {},
   "outputs": [
    {
     "name": "stdout",
     "output_type": "stream",
     "text": [
      "CPU times: user 9.3 ms, sys: 0 ns, total: 9.3 ms\n",
      "Wall time: 22 ms\n"
     ]
    }
   ],
   "source": [
    "%%time\n",
    "import pytorch_lightning as pl\n",
    "from pytorch_lightning import Trainer\n",
    "\n",
    "\n",
    "import bd\n",
    "import bd.models\n",
    "reload(bd)\n",
    "reload(bd.models)\n",
    "from bd.models import TransformerVAE\n",
    "from bd.data import SELFIESDataModule, CustomRichProgressBar\n",
    "\n",
    "\n",
    "EPOCHS = 6\n",
    "# Model parameters\n",
    "vocab_size = len(vocab)  # Make sure vocab includes PAD_TOKEN\n",
    "BATCH_SIZE= 256 #8* vocab_size\n",
    "EMBEDDING_DIM = max_tokens#21#32\n",
    "HIDDEN_DIM = 128#64\n",
    "LATENT_DIM = 64#16\n",
    "BETA=1.0\n",
    "USE_MSE=False\n",
    "\n",
    "# get the data\n",
    "data_module = SELFIESDataModule(dataset_selfies, \n",
    "                                max_selfies_tokens= max_tokens, \n",
    "                                start_token_index=vocab[start_token],\n",
    "                                train_batch_size=BATCH_SIZE,\n",
    "                                val_batch_size = BATCH_SIZE,\n",
    "                                drop_last=True,\n",
    "                                train_val_split=0.8)\n",
    "data_module.setup()\n",
    "train_loader = data_module.train_dataloader()\n",
    "val_loader = data_module.val_dataloader()\n",
    "\n"
   ]
  },
  {
   "cell_type": "code",
   "execution_count": 49,
   "id": "3563757f",
   "metadata": {},
   "outputs": [],
   "source": [
    "#!pip install einops"
   ]
  },
  {
   "cell_type": "code",
   "execution_count": 84,
   "id": "87b66a92",
   "metadata": {},
   "outputs": [
    {
     "name": "stderr",
     "output_type": "stream",
     "text": [
      "GPU available: True (cuda), used: True\n",
      "TPU available: False, using: 0 TPU cores\n",
      "IPU available: False, using: 0 IPUs\n",
      "HPU available: False, using: 0 HPUs\n"
     ]
    }
   ],
   "source": [
    "import torch\n",
    "from torch import nn\n",
    "import pytorch_lightning as pl\n",
    "\n",
    "\n",
    "model = TransformerVAE(vocab_size=vocab_size, \n",
    "                       max_length=21, \n",
    "                       d_model=vocab_size, #64, #512,\n",
    "                       nhead=4,#8\n",
    "                       num_layers=1, #3, \n",
    "                       dim_feedforward=21,#64, #2048, \n",
    "                       dropout=0.1)\n",
    "# Setup the trainer\n",
    "trainer = pl.Trainer(max_epochs=EPOCHS, callbacks=[CustomRichProgressBar()])  # Adjust according to your setup\n"
   ]
  },
  {
   "cell_type": "code",
   "execution_count": 86,
   "id": "79442b90",
   "metadata": {},
   "outputs": [
    {
     "name": "stderr",
     "output_type": "stream",
     "text": [
      "LOCAL_RANK: 0 - CUDA_VISIBLE_DEVICES: [0]\n"
     ]
    },
    {
     "data": {
      "text/html": [
       "<pre style=\"white-space:pre;overflow-x:auto;line-height:normal;font-family:Menlo,'DejaVu Sans Mono',consolas,'Courier New',monospace\">┏━━━┳━━━━━━━━━━━━━━┳━━━━━━━━━━━━━━━━━━━━┳━━━━━━━━┓\n",
       "┃<span style=\"color: #800080; text-decoration-color: #800080; font-weight: bold\">   </span>┃<span style=\"color: #800080; text-decoration-color: #800080; font-weight: bold\"> Name         </span>┃<span style=\"color: #800080; text-decoration-color: #800080; font-weight: bold\"> Type               </span>┃<span style=\"color: #800080; text-decoration-color: #800080; font-weight: bold\"> Params </span>┃\n",
       "┡━━━╇━━━━━━━━━━━━━━╇━━━━━━━━━━━━━━━━━━━━╇━━━━━━━━┩\n",
       "│<span style=\"color: #7f7f7f; text-decoration-color: #7f7f7f\"> 0 </span>│ encoder      │ TransformerEncoder │ 15.4 K │\n",
       "│<span style=\"color: #7f7f7f; text-decoration-color: #7f7f7f\"> 1 </span>│ decoder      │ TransformerDecoder │ 28.3 K │\n",
       "│<span style=\"color: #7f7f7f; text-decoration-color: #7f7f7f\"> 2 </span>│ embedding    │ Embedding          │  3.1 K │\n",
       "│<span style=\"color: #7f7f7f; text-decoration-color: #7f7f7f\"> 3 </span>│ to_latent    │ Linear             │  6.4 K │\n",
       "│<span style=\"color: #7f7f7f; text-decoration-color: #7f7f7f\"> 4 </span>│ from_latent  │ Linear             │  3.2 K │\n",
       "│<span style=\"color: #7f7f7f; text-decoration-color: #7f7f7f\"> 5 </span>│ output_layer │ Linear             │  3.2 K │\n",
       "│<span style=\"color: #7f7f7f; text-decoration-color: #7f7f7f\">   </span>│ other params │ n/a                │  1.2 K │\n",
       "└───┴──────────────┴────────────────────┴────────┘\n",
       "</pre>\n"
      ],
      "text/plain": [
       "┏━━━┳━━━━━━━━━━━━━━┳━━━━━━━━━━━━━━━━━━━━┳━━━━━━━━┓\n",
       "┃\u001b[1;35m \u001b[0m\u001b[1;35m \u001b[0m\u001b[1;35m \u001b[0m┃\u001b[1;35m \u001b[0m\u001b[1;35mName        \u001b[0m\u001b[1;35m \u001b[0m┃\u001b[1;35m \u001b[0m\u001b[1;35mType              \u001b[0m\u001b[1;35m \u001b[0m┃\u001b[1;35m \u001b[0m\u001b[1;35mParams\u001b[0m\u001b[1;35m \u001b[0m┃\n",
       "┡━━━╇━━━━━━━━━━━━━━╇━━━━━━━━━━━━━━━━━━━━╇━━━━━━━━┩\n",
       "│\u001b[2m \u001b[0m\u001b[2m0\u001b[0m\u001b[2m \u001b[0m│ encoder      │ TransformerEncoder │ 15.4 K │\n",
       "│\u001b[2m \u001b[0m\u001b[2m1\u001b[0m\u001b[2m \u001b[0m│ decoder      │ TransformerDecoder │ 28.3 K │\n",
       "│\u001b[2m \u001b[0m\u001b[2m2\u001b[0m\u001b[2m \u001b[0m│ embedding    │ Embedding          │  3.1 K │\n",
       "│\u001b[2m \u001b[0m\u001b[2m3\u001b[0m\u001b[2m \u001b[0m│ to_latent    │ Linear             │  6.4 K │\n",
       "│\u001b[2m \u001b[0m\u001b[2m4\u001b[0m\u001b[2m \u001b[0m│ from_latent  │ Linear             │  3.2 K │\n",
       "│\u001b[2m \u001b[0m\u001b[2m5\u001b[0m\u001b[2m \u001b[0m│ output_layer │ Linear             │  3.2 K │\n",
       "│\u001b[2m \u001b[0m\u001b[2m \u001b[0m\u001b[2m \u001b[0m│ other params │ n/a                │  1.2 K │\n",
       "└───┴──────────────┴────────────────────┴────────┘\n"
      ]
     },
     "metadata": {},
     "output_type": "display_data"
    },
    {
     "data": {
      "text/html": [
       "<pre style=\"white-space:pre;overflow-x:auto;line-height:normal;font-family:Menlo,'DejaVu Sans Mono',consolas,'Courier New',monospace\"><span style=\"font-weight: bold\">Trainable params</span>: 60.8 K                                                                                           \n",
       "<span style=\"font-weight: bold\">Non-trainable params</span>: 0                                                                                            \n",
       "<span style=\"font-weight: bold\">Total params</span>: 60.8 K                                                                                               \n",
       "<span style=\"font-weight: bold\">Total estimated model params size (MB)</span>: 0                                                                          \n",
       "</pre>\n"
      ],
      "text/plain": [
       "\u001b[1mTrainable params\u001b[0m: 60.8 K                                                                                           \n",
       "\u001b[1mNon-trainable params\u001b[0m: 0                                                                                            \n",
       "\u001b[1mTotal params\u001b[0m: 60.8 K                                                                                               \n",
       "\u001b[1mTotal estimated model params size (MB)\u001b[0m: 0                                                                          \n"
      ]
     },
     "metadata": {},
     "output_type": "display_data"
    },
    {
     "data": {
      "application/vnd.jupyter.widget-view+json": {
       "model_id": "a32c73b383a3461286ce39d6591595c1",
       "version_major": 2,
       "version_minor": 0
      },
      "text/plain": [
       "Output()"
      ]
     },
     "metadata": {},
     "output_type": "display_data"
    },
    {
     "name": "stderr",
     "output_type": "stream",
     "text": [
      "`Trainer.fit` stopped: `max_epochs=6` reached.\n"
     ]
    },
    {
     "data": {
      "text/html": [
       "<pre style=\"white-space:pre;overflow-x:auto;line-height:normal;font-family:Menlo,'DejaVu Sans Mono',consolas,'Courier New',monospace\"></pre>\n"
      ],
      "text/plain": []
     },
     "metadata": {},
     "output_type": "display_data"
    },
    {
     "data": {
      "text/html": [
       "<pre style=\"white-space:pre;overflow-x:auto;line-height:normal;font-family:Menlo,'DejaVu Sans Mono',consolas,'Courier New',monospace\">\n",
       "</pre>\n"
      ],
      "text/plain": [
       "\n"
      ]
     },
     "metadata": {},
     "output_type": "display_data"
    }
   ],
   "source": [
    "\n",
    "\n",
    "# Start training\n",
    "trainer.fit(model, train_loader, val_loader)\n",
    "\n"
   ]
  },
  {
   "cell_type": "code",
   "execution_count": 87,
   "id": "a14b2422",
   "metadata": {},
   "outputs": [
    {
     "data": {
      "image/png": "[encoded data removed]",
      "text/plain": [
       "<Figure size 432x288 with 1 Axes>"
      ]
     },
     "metadata": {
      "needs_background": "light"
     },
     "output_type": "display_data"
    }
   ],
   "source": [
    "import matplotlib.pyplot as plt\n",
    "\n",
    "# Plotting\n",
    "plt.plot(model.train_losses, label='Training Loss')\n",
    "plt.plot(model.val_losses, label='Validation Loss')\n",
    "plt.title('Training and Validation Losses')\n",
    "plt.xlabel('Epoch')\n",
    "plt.ylabel('Loss')\n",
    "plt.ylim(0,5)\n",
    "plt.legend()\n",
    "plt.show()\n"
   ]
  },
  {
   "cell_type": "markdown",
   "id": "d3ccdce0",
   "metadata": {},
   "source": [
    "## Generate a SELFIES\n",
    "\n",
    "Use the model to generate of a SELFIES string and view the molecular structure."
   ]
  },
  {
   "cell_type": "code",
   "execution_count": 114,
   "id": "a477d4ec",
   "metadata": {},
   "outputs": [
    {
     "name": "stdout",
     "output_type": "stream",
     "text": [
      "[=O][CH1+1][\\C@H1][Ring2][#C][/N+1][/C@H1][CH1+1][Branch2][CH1+1][=Branch2][CH1+1][/N+1]\n"
     ]
    },
    {
     "data": {
      "image/png": "[encoded data removed]",
      "text/plain": [
       "<PIL.PngImagePlugin.PngImageFile image mode=RGB size=300x300>"
      ]
     },
     "metadata": {},
     "output_type": "display_data"
    }
   ],
   "source": [
    "bdl.set_verbosity(bdl.WARN)\n",
    "gen_max_tokens=13\n",
    "import bd.assess\n",
    "reload(bd.assess)\n",
    "import bd.assess\n",
    "from bd.assess import generate_and_decode, selfies_to_image\n",
    "selfies_string, z, generated_indices1 = generate_and_decode(model=model, vocab=vocab, max_tokens=gen_max_tokens, \n",
    "                                                                start_token=start_token, \n",
    "                                                                pad_token=pad_token, \n",
    "                                                                z=None,\n",
    "                                                                latent_dim = model.d_model)\n",
    "print(selfies_string)\n",
    "display(selfies_to_image(selfies_string))"
   ]
  },
  {
   "cell_type": "code",
   "execution_count": null,
   "id": "e0909647",
   "metadata": {},
   "outputs": [],
   "source": []
  }
 ],
 "metadata": {
  "kernelspec": {
   "display_name": "Python (jupyter)",
   "language": "python",
   "name": "jupyter"
  },
  "language_info": {
   "codemirror_mode": {
    "name": "ipython",
    "version": 3
   },
   "file_extension": ".py",
   "mimetype": "text/x-python",
   "name": "python",
   "nbconvert_exporter": "python",
   "pygments_lexer": "ipython3",
   "version": "3.10.9"
  }
 },
 "nbformat": 4,
 "nbformat_minor": 5
}
